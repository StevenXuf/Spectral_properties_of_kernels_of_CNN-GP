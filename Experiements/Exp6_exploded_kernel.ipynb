{
 "cells": [
  {
   "cell_type": "markdown",
   "id": "9aabdf3c",
   "metadata": {},
   "source": [
    "How the kernel value changes for 2 fixed images when number of layers goes to infinity?"
   ]
  },
  {
   "cell_type": "code",
   "execution_count": 1,
   "id": "9262086d",
   "metadata": {},
   "outputs": [],
   "source": [
    "from networks import cnn,res_cnn\n",
    "import numpy as np\n",
    "import torch\n",
    "import torchvision as tv"
   ]
  },
  {
   "cell_type": "code",
   "execution_count": 2,
   "id": "54d74f28",
   "metadata": {},
   "outputs": [],
   "source": [
    "layers=np.arange(3,15,1)\n",
    "mnist_train=tv.datasets.MNIST(root='./mnist_train',train=True,download=True,transform=tv.transforms.ToTensor())\n",
    "rand1,rand2=np.random.randint(1,50000,2)\n",
    "img1=mnist_train.data[rand1].view(1,1,28,28)/255\n",
    "img2=mnist_train.data[rand2].view(1,1,28,28)/255"
   ]
  },
  {
   "cell_type": "code",
   "execution_count": 3,
   "id": "9732674e",
   "metadata": {},
   "outputs": [
    {
     "name": "stdout",
     "output_type": "stream",
     "text": [
      "cnn with 3 layers has covariance 1.04e+05\n",
      "cnn with 4 layers has covariance 7.15e+06\n",
      "cnn with 5 layers has covariance 4.86e+08\n",
      "cnn with 6 layers has covariance 3.28e+10\n",
      "cnn with 7 layers has covariance 2.20e+12\n",
      "cnn with 8 layers has covariance 1.47e+14\n",
      "cnn with 9 layers has covariance 9.82e+15\n",
      "cnn with 10 layers has covariance 6.52e+17\n",
      "cnn with 11 layers has covariance nan\n",
      "cnn with 12 layers has covariance nan\n",
      "cnn with 13 layers has covariance nan\n",
      "cnn with 14 layers has covariance nan\n"
     ]
    }
   ],
   "source": [
    "for layer in layers:\n",
    "    model=cnn(layer)\n",
    "    k=model(img1,img2)\n",
    "    print(f'cnn with {layer} layers has covariance {k.item():.2e}')"
   ]
  },
  {
   "cell_type": "code",
   "execution_count": 4,
   "id": "e7c83b8a",
   "metadata": {},
   "outputs": [
    {
     "name": "stdout",
     "output_type": "stream",
     "text": [
      "residual cnn with 3 layers has covariance 1.54e+05\n",
      "residual cnn with 4 layers has covariance 9.40e+06\n",
      "residual cnn with 5 layers has covariance 5.67e+08\n",
      "residual cnn with 6 layers has covariance 3.39e+10\n",
      "residual cnn with 7 layers has covariance 2.01e+12\n",
      "residual cnn with 8 layers has covariance 1.19e+14\n",
      "residual cnn with 9 layers has covariance 6.95e+15\n",
      "residual cnn with 10 layers has covariance 4.05e+17\n",
      "residual cnn with 11 layers has covariance nan\n",
      "residual cnn with 12 layers has covariance nan\n",
      "residual cnn with 13 layers has covariance nan\n",
      "residual cnn with 14 layers has covariance nan\n"
     ]
    }
   ],
   "source": [
    "for layer in layers:\n",
    "    model=res_cnn(layer)\n",
    "    k=model(img1,img2)\n",
    "    print(f'residual cnn with {layer} layers has covariance {k.item():.2e}')"
   ]
  },
  {
   "cell_type": "code",
   "execution_count": 6,
   "id": "9c7d0d77",
   "metadata": {},
   "outputs": [
    {
     "name": "stdout",
     "output_type": "stream",
     "text": [
      "tensor(11)\n"
     ]
    }
   ],
   "source": [
    "data=mnist_train.data[2000:2100].view(100,1,28,28)/255\n",
    "labels=mnist_train.targets[2000:2100]\n",
    "\n",
    "test=mnist_train.data[4500:4600].view(100,1,28,28)/255\n",
    "tars=mnist_train.targets[4500:4600]\n",
    "\n",
    "label_mat=-1*torch.ones((100,10))\n",
    "for i in range(100):\n",
    "    label_mat[i,labels[i]]=1\n",
    "\n",
    "model=cnn(11)\n",
    "kxx=model(data)\n",
    "kyx=model(test,data)\n",
    "preds=torch.mm(kyx,torch.mm(torch.linalg.inv(kxx),label_mat))\n",
    "_,predictions=torch.max(preds,1)\n",
    "print(sum(predictions==tars))"
   ]
  },
  {
   "cell_type": "code",
   "execution_count": 10,
   "id": "403d1510",
   "metadata": {},
   "outputs": [
    {
     "data": {
      "text/plain": [
       "tensor([0, 0, 0, 0, 0, 0, 0, 0, 0, 0, 0, 0, 0, 0, 0, 0, 0, 0, 0, 0, 0, 0, 0, 0,\n",
       "        0, 0, 0, 0, 0, 0, 0, 0, 0, 0, 0, 0, 0, 0, 0, 0, 0, 0, 0, 0, 0, 0, 0, 0,\n",
       "        0, 0, 0, 0, 0, 0, 0, 0, 0, 0, 0, 0, 0, 0, 0, 0, 0, 0, 0, 0, 0, 0, 0, 0,\n",
       "        0, 0, 0, 0, 0, 0, 0, 0, 0, 0, 0, 0, 0, 0, 0, 0, 0, 0, 0, 0, 0, 0, 0, 0,\n",
       "        0, 0, 0, 0])"
      ]
     },
     "execution_count": 10,
     "metadata": {},
     "output_type": "execute_result"
    }
   ],
   "source": [
    "predictions"
   ]
  },
  {
   "cell_type": "code",
   "execution_count": null,
   "id": "dbba14c0",
   "metadata": {},
   "outputs": [],
   "source": []
  }
 ],
 "metadata": {
  "kernelspec": {
   "display_name": "Python 3 (ipykernel)",
   "language": "python",
   "name": "python3"
  },
  "language_info": {
   "codemirror_mode": {
    "name": "ipython",
    "version": 3
   },
   "file_extension": ".py",
   "mimetype": "text/x-python",
   "name": "python",
   "nbconvert_exporter": "python",
   "pygments_lexer": "ipython3",
   "version": "3.8.10"
  }
 },
 "nbformat": 4,
 "nbformat_minor": 5
}
