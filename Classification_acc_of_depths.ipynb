{
 "cells": [
  {
   "cell_type": "markdown",
   "id": "041f15f8",
   "metadata": {},
   "source": [
    "Classification of Networks with Different Depths on MNIST"
   ]
  },
  {
   "cell_type": "markdown",
   "id": "cdd877b2",
   "metadata": {},
   "source": [
    "1. CNN-GP Classification"
   ]
  },
  {
   "cell_type": "code",
   "execution_count": 2,
   "id": "14d287af",
   "metadata": {},
   "outputs": [],
   "source": [
    "import numpy as np\n",
    "import torch\n",
    "import torchvision as tv\n",
    "import matplotlib.pyplot as plt\n",
    "import time\n",
    "import os\n",
    "from networks import cnn,res_cnn"
   ]
  },
  {
   "cell_type": "code",
   "execution_count": 56,
   "id": "13acc549",
   "metadata": {},
   "outputs": [],
   "source": [
    "var_bias = 7.86\n",
    "var_weight = 2.79\n",
    "\n",
    "cnn3=cnn(3)\n",
    "cnn5=cnn(5)\n",
    "cnn7=cnn(7)\n",
    "cnn9=cnn(9)"
   ]
  },
  {
   "cell_type": "code",
   "execution_count": 3,
   "id": "a5c24661",
   "metadata": {},
   "outputs": [],
   "source": [
    "mnist_train=tv.datasets.MNIST(root='./mnist_train',train=True,download=True,transform=tv.transforms.ToTensor())\n",
    "mnist_test=tv.datasets.MNIST(root='./mnist_test',train=False,download=True,transform=tv.transforms.ToTensor())\n",
    "\n",
    "trainloader=torch.utils.data.DataLoader(mnist_train,batch_size=500,shuffle=True)\n",
    "testloader=torch.utils.data.DataLoader(mnist_test,batch_size=500,shuffle=True)"
   ]
  },
  {
   "cell_type": "code",
   "execution_count": 15,
   "id": "03bc43b5",
   "metadata": {},
   "outputs": [],
   "source": [
    "def model_acc(model,batch_ind):\n",
    "    count=[]\n",
    "    train_data,train_labels=None,None\n",
    "    for i,data in enumerate(trainloader):\n",
    "        if i==batch_ind:\n",
    "            train_data,train_labels=data\n",
    "            break\n",
    "    labels=-1*torch.ones((500,10))\n",
    "    for ii in range(500):\n",
    "        labels[ii,train_labels[ii]]=1\n",
    "        \n",
    "    path=f'./Kernel_for_classification/{model}/'\n",
    "    if not os.path.exists(path):\n",
    "        os.mkdir(path)\n",
    "    \n",
    "    Kxx=None\n",
    "    try:\n",
    "        Kxx=np.load(path+f'K_train_{batch_ind}.npy')\n",
    "        Kxx=Kxx.from_numpy()\n",
    "    except:\n",
    "        Kxx=model(train_data)\n",
    "        np.save(path+f'K_train_{batch_ind}.npy',Kxx)\n",
    "    print('Training kenrel obtained!')\n",
    "    \n",
    "    test_data,test_labels=None,None\n",
    "    for j,d in enumerate(testloader):\n",
    "        print(f'Running test batch: {j}')\n",
    "        test_data,test_labels=d\n",
    "        Kyx=None\n",
    "        try:\n",
    "            Kyx=np.load(path+f'K_test_{batch_ind}_{j}.npy')\n",
    "            Kyx=Kyx.from_numpy()\n",
    "        except:\n",
    "            Kyx=model(test_data,train_data)\n",
    "            np.save(path+f'K_test_{batch_ind}_{j}.npy',Kyx)\n",
    "    \n",
    "        pred_mat=torch.matmul(Kyx,torch.matmul(torch.linalg.inv(Kxx),labels)).cuda()\n",
    "        _,predictions=torch.max(pred_mat,1)\n",
    "        cnt=sum(predictions.cpu()==test_labels)\n",
    "        count.append(cnt)\n",
    "    print('Finished!!!')\n",
    "    \n",
    "    return count"
   ]
  },
  {
   "cell_type": "code",
   "execution_count": 12,
   "id": "23bef843",
   "metadata": {},
   "outputs": [
    {
     "name": "stdout",
     "output_type": "stream",
     "text": [
      "Training kenrel obtained!\n",
      "Running test batch: 0\n",
      "Running test batch: 1\n",
      "Running test batch: 2\n",
      "Running test batch: 3\n",
      "Running test batch: 4\n",
      "Running test batch: 5\n",
      "Running test batch: 6\n",
      "Running test batch: 7\n",
      "Running test batch: 8\n",
      "Running test batch: 9\n",
      "Running test batch: 10\n",
      "Running test batch: 11\n",
      "Running test batch: 12\n",
      "Running test batch: 13\n",
      "Running test batch: 14\n",
      "Running test batch: 15\n",
      "Running test batch: 16\n",
      "Running test batch: 17\n",
      "Running test batch: 18\n",
      "Running test batch: 19\n",
      "Finished!!!\n"
     ]
    }
   ],
   "source": [
    "cnn3_cnt1=model_acc(cnn3,10)"
   ]
  },
  {
   "cell_type": "code",
   "execution_count": 13,
   "id": "2b902e8b",
   "metadata": {},
   "outputs": [
    {
     "name": "stdout",
     "output_type": "stream",
     "text": [
      "Training kenrel obtained!\n",
      "Running test batch: 0\n",
      "Running test batch: 1\n",
      "Running test batch: 2\n",
      "Running test batch: 3\n",
      "Running test batch: 4\n",
      "Running test batch: 5\n",
      "Running test batch: 6\n",
      "Running test batch: 7\n",
      "Running test batch: 8\n",
      "Running test batch: 9\n",
      "Running test batch: 10\n",
      "Running test batch: 11\n",
      "Running test batch: 12\n",
      "Running test batch: 13\n",
      "Running test batch: 14\n",
      "Running test batch: 15\n",
      "Running test batch: 16\n",
      "Running test batch: 17\n",
      "Running test batch: 18\n",
      "Running test batch: 19\n",
      "Finished!!!\n"
     ]
    }
   ],
   "source": [
    "cnn3_cnt2=model_acc(cnn3,40)"
   ]
  },
  {
   "cell_type": "code",
   "execution_count": 16,
   "id": "e8d16ae3",
   "metadata": {},
   "outputs": [
    {
     "name": "stdout",
     "output_type": "stream",
     "text": [
      "Training kenrel obtained!\n",
      "Running test batch: 0\n",
      "Running test batch: 1\n",
      "Running test batch: 2\n",
      "Running test batch: 3\n",
      "Running test batch: 4\n",
      "Running test batch: 5\n",
      "Running test batch: 6\n",
      "Running test batch: 7\n",
      "Running test batch: 8\n",
      "Running test batch: 9\n",
      "Running test batch: 10\n",
      "Running test batch: 11\n",
      "Running test batch: 12\n",
      "Running test batch: 13\n",
      "Running test batch: 14\n",
      "Running test batch: 15\n",
      "Running test batch: 16\n",
      "Running test batch: 17\n",
      "Running test batch: 18\n",
      "Running test batch: 19\n",
      "Finished!!!\n"
     ]
    }
   ],
   "source": [
    "cnn3_cnt3=model_acc(cnn3,89)"
   ]
  },
  {
   "cell_type": "code",
   "execution_count": 32,
   "id": "967cfe9e",
   "metadata": {},
   "outputs": [
    {
     "name": "stdout",
     "output_type": "stream",
     "text": [
      "tensor(90.3500)\n",
      "7.24\n",
      "tensor(91.4200)\n",
      "5.02\n",
      "tensor(91.0600)\n",
      "7.73\n",
      "tensor(0.9094)\n"
     ]
    }
   ],
   "source": [
    "total=0\n",
    "for cnt in [cnn3_cnt1,cnn3_cnt2,cnn3_cnt3]:\n",
    "    total+=sum(cnt)\n",
    "    print(sum(cnt)/10000*100)\n",
    "    print(round(np.std(cnt),2))\n",
    "print(total/30000)"
   ]
  },
  {
   "cell_type": "code",
   "execution_count": 17,
   "id": "0a5512d4",
   "metadata": {},
   "outputs": [
    {
     "name": "stdout",
     "output_type": "stream",
     "text": [
      "Training kenrel obtained!\n",
      "Running test batch: 0\n",
      "Running test batch: 1\n",
      "Running test batch: 2\n",
      "Running test batch: 3\n",
      "Running test batch: 4\n",
      "Running test batch: 5\n",
      "Running test batch: 6\n",
      "Running test batch: 7\n",
      "Running test batch: 8\n",
      "Running test batch: 9\n",
      "Running test batch: 10\n",
      "Running test batch: 11\n",
      "Running test batch: 12\n",
      "Running test batch: 13\n",
      "Running test batch: 14\n",
      "Running test batch: 15\n",
      "Running test batch: 16\n",
      "Running test batch: 17\n",
      "Running test batch: 18\n",
      "Running test batch: 19\n",
      "Finished!!!\n"
     ]
    }
   ],
   "source": [
    "cnn5_cnt1=model_acc(cnn5,10)"
   ]
  },
  {
   "cell_type": "code",
   "execution_count": 18,
   "id": "769a8cf8",
   "metadata": {},
   "outputs": [
    {
     "name": "stdout",
     "output_type": "stream",
     "text": [
      "Training kenrel obtained!\n",
      "Running test batch: 0\n",
      "Running test batch: 1\n",
      "Running test batch: 2\n",
      "Running test batch: 3\n",
      "Running test batch: 4\n",
      "Running test batch: 5\n",
      "Running test batch: 6\n",
      "Running test batch: 7\n",
      "Running test batch: 8\n",
      "Running test batch: 9\n",
      "Running test batch: 10\n",
      "Running test batch: 11\n",
      "Running test batch: 12\n",
      "Running test batch: 13\n",
      "Running test batch: 14\n",
      "Running test batch: 15\n",
      "Running test batch: 16\n",
      "Running test batch: 17\n",
      "Running test batch: 18\n",
      "Running test batch: 19\n",
      "Finished!!!\n"
     ]
    }
   ],
   "source": [
    "cnn5_cnt2=model_acc(cnn5,40)"
   ]
  },
  {
   "cell_type": "code",
   "execution_count": 19,
   "id": "10959c2a",
   "metadata": {},
   "outputs": [
    {
     "name": "stdout",
     "output_type": "stream",
     "text": [
      "Training kenrel obtained!\n",
      "Running test batch: 0\n",
      "Running test batch: 1\n",
      "Running test batch: 2\n",
      "Running test batch: 3\n",
      "Running test batch: 4\n",
      "Running test batch: 5\n",
      "Running test batch: 6\n",
      "Running test batch: 7\n",
      "Running test batch: 8\n",
      "Running test batch: 9\n",
      "Running test batch: 10\n",
      "Running test batch: 11\n",
      "Running test batch: 12\n",
      "Running test batch: 13\n",
      "Running test batch: 14\n",
      "Running test batch: 15\n",
      "Running test batch: 16\n",
      "Running test batch: 17\n",
      "Running test batch: 18\n",
      "Running test batch: 19\n",
      "Finished!!!\n"
     ]
    }
   ],
   "source": [
    "cnn5_cnt3=model_acc(cnn5,89)"
   ]
  },
  {
   "cell_type": "code",
   "execution_count": 33,
   "id": "86b2c1ec",
   "metadata": {},
   "outputs": [
    {
     "name": "stdout",
     "output_type": "stream",
     "text": [
      "tensor(91.8500)\n",
      "6.62\n",
      "tensor(91.2800)\n",
      "7.18\n",
      "tensor(90.9900)\n",
      "6.09\n",
      "tensor(0.9137)\n"
     ]
    }
   ],
   "source": [
    "total=0\n",
    "for cnt in [cnn5_cnt1,cnn5_cnt2,cnn5_cnt3]:\n",
    "    print(sum(cnt)/10000*100)\n",
    "    print(round(np.std(cnt),2))\n",
    "    total+=sum(cnt)\n",
    "print(total/30000)"
   ]
  },
  {
   "cell_type": "code",
   "execution_count": 20,
   "id": "b3624de6",
   "metadata": {},
   "outputs": [
    {
     "name": "stdout",
     "output_type": "stream",
     "text": [
      "Training kenrel obtained!\n",
      "Running test batch: 0\n",
      "Running test batch: 1\n",
      "Running test batch: 2\n",
      "Running test batch: 3\n",
      "Running test batch: 4\n",
      "Running test batch: 5\n",
      "Running test batch: 6\n",
      "Running test batch: 7\n",
      "Running test batch: 8\n",
      "Running test batch: 9\n",
      "Running test batch: 10\n",
      "Running test batch: 11\n",
      "Running test batch: 12\n",
      "Running test batch: 13\n",
      "Running test batch: 14\n",
      "Running test batch: 15\n",
      "Running test batch: 16\n",
      "Running test batch: 17\n",
      "Running test batch: 18\n",
      "Running test batch: 19\n",
      "Finished!!!\n"
     ]
    }
   ],
   "source": [
    "cnn7_cnt1=model_acc(cnn7,10)"
   ]
  },
  {
   "cell_type": "code",
   "execution_count": 22,
   "id": "b8c675f3",
   "metadata": {},
   "outputs": [
    {
     "name": "stdout",
     "output_type": "stream",
     "text": [
      "Training kenrel obtained!\n",
      "Running test batch: 0\n",
      "Running test batch: 1\n",
      "Running test batch: 2\n",
      "Running test batch: 3\n",
      "Running test batch: 4\n",
      "Running test batch: 5\n",
      "Running test batch: 6\n",
      "Running test batch: 7\n",
      "Running test batch: 8\n",
      "Running test batch: 9\n",
      "Running test batch: 10\n",
      "Running test batch: 11\n",
      "Running test batch: 12\n",
      "Running test batch: 13\n",
      "Running test batch: 14\n",
      "Running test batch: 15\n",
      "Running test batch: 16\n",
      "Running test batch: 17\n",
      "Running test batch: 18\n",
      "Running test batch: 19\n",
      "Finished!!!\n"
     ]
    }
   ],
   "source": [
    "cnn7_cnt2=model_acc(cnn7,40)"
   ]
  },
  {
   "cell_type": "code",
   "execution_count": 23,
   "id": "53650891",
   "metadata": {},
   "outputs": [
    {
     "name": "stdout",
     "output_type": "stream",
     "text": [
      "Training kenrel obtained!\n",
      "Running test batch: 0\n",
      "Running test batch: 1\n",
      "Running test batch: 2\n",
      "Running test batch: 3\n",
      "Running test batch: 4\n",
      "Running test batch: 5\n",
      "Running test batch: 6\n",
      "Running test batch: 7\n",
      "Running test batch: 8\n",
      "Running test batch: 9\n",
      "Running test batch: 10\n",
      "Running test batch: 11\n",
      "Running test batch: 12\n",
      "Running test batch: 13\n",
      "Running test batch: 14\n",
      "Running test batch: 15\n",
      "Running test batch: 16\n",
      "Running test batch: 17\n",
      "Running test batch: 18\n",
      "Running test batch: 19\n",
      "Finished!!!\n"
     ]
    }
   ],
   "source": [
    "cnn7_cnt3=model_acc(cnn7,89)"
   ]
  },
  {
   "cell_type": "code",
   "execution_count": 34,
   "id": "ff78fefd",
   "metadata": {},
   "outputs": [
    {
     "name": "stdout",
     "output_type": "stream",
     "text": [
      "tensor(92.3400)\n",
      "5.12\n",
      "tensor(92.0900)\n",
      "5.95\n",
      "tensor(91.2400)\n",
      "4.95\n",
      "tensor(0.9189)\n"
     ]
    }
   ],
   "source": [
    "total=0\n",
    "for cnt in [cnn7_cnt1,cnn7_cnt2,cnn7_cnt3]:\n",
    "    print(sum(cnt)/10000*100)\n",
    "    print(round(np.std(cnt),2))\n",
    "    total+=sum(cnt)\n",
    "print(total/30000)"
   ]
  },
  {
   "cell_type": "code",
   "execution_count": 70,
   "id": "da718c97",
   "metadata": {},
   "outputs": [],
   "source": [
    "def model_acc_new(model,model_file,batch_ind):\n",
    "    count=[]\n",
    "    train_data,train_labels=None,None\n",
    "    for i,data in enumerate(trainloader):\n",
    "        if i==batch_ind:\n",
    "            train_data,train_labels=data\n",
    "            break\n",
    "    labels=-1*torch.ones((500,10))\n",
    "    for ii in range(500):\n",
    "        labels[ii,train_labels[ii]]=1\n",
    "        \n",
    "    path=f'./Kernel_for_classification/{model_file}/'\n",
    "    if not os.path.exists(path):\n",
    "        os.mkdir(path)\n",
    "    \n",
    "    Kxx=None\n",
    "    try:\n",
    "        Kxx=np.load(path+f'K_train_{batch_ind}.npy')\n",
    "        Kxx=Kxx.from_numpy()\n",
    "    except:\n",
    "        Kxx=model(train_data)\n",
    "        np.save(path+f'K_train_{batch_ind}.npy',Kxx)\n",
    "    print('Training kenrel obtained!')\n",
    "    \n",
    "    test_data,test_labels=None,None\n",
    "    for j,d in enumerate(testloader):\n",
    "        print(f'Running test batch: {j}')\n",
    "        test_data,test_labels=d\n",
    "        Kyx=None\n",
    "        try:\n",
    "            Kyx=np.load(path+f'K_test_{batch_ind}_{j}.npy')\n",
    "            Kyx=Kyx.from_numpy()\n",
    "        except:\n",
    "            Kyx=model(test_data,train_data)\n",
    "            np.save(path+f'K_test_{batch_ind}_{j}.npy',Kyx)\n",
    "    \n",
    "        pred_mat=torch.matmul(Kyx,torch.matmul(torch.linalg.inv(Kxx),labels)).cuda()\n",
    "        _,predictions=torch.max(pred_mat,1)\n",
    "        cnt=sum(predictions.cpu()==test_labels)\n",
    "        count.append(cnt)\n",
    "    print('Finished!!!')\n",
    "    \n",
    "    return count"
   ]
  },
  {
   "cell_type": "code",
   "execution_count": 74,
   "id": "0b1bc64e",
   "metadata": {},
   "outputs": [],
   "source": [
    "def statistic(cnt_list):\n",
    "    total=0\n",
    "    for cnt in cnt_list:\n",
    "        print(sum(cnt)/10000*100)\n",
    "        print(round(np.std(cnt),2))\n",
    "        total+=sum(cnt)\n",
    "    print(total/30000)"
   ]
  },
  {
   "cell_type": "code",
   "execution_count": 71,
   "id": "1261eb6b",
   "metadata": {},
   "outputs": [
    {
     "name": "stdout",
     "output_type": "stream",
     "text": [
      "Training kenrel obtained!\n",
      "Running test batch: 0\n",
      "Running test batch: 1\n",
      "Running test batch: 2\n",
      "Running test batch: 3\n",
      "Running test batch: 4\n",
      "Running test batch: 5\n",
      "Running test batch: 6\n",
      "Running test batch: 7\n",
      "Running test batch: 8\n",
      "Running test batch: 9\n",
      "Running test batch: 10\n",
      "Running test batch: 11\n",
      "Running test batch: 12\n",
      "Running test batch: 13\n",
      "Running test batch: 14\n",
      "Running test batch: 15\n",
      "Running test batch: 16\n",
      "Running test batch: 17\n",
      "Running test batch: 18\n",
      "Running test batch: 19\n",
      "Finished!!!\n"
     ]
    }
   ],
   "source": [
    "cnn9_cnt1=model_acc_new(cnn9,'cnn9',10)"
   ]
  },
  {
   "cell_type": "code",
   "execution_count": 72,
   "id": "692fd2b7",
   "metadata": {},
   "outputs": [
    {
     "name": "stdout",
     "output_type": "stream",
     "text": [
      "Training kenrel obtained!\n",
      "Running test batch: 0\n",
      "Running test batch: 1\n",
      "Running test batch: 2\n",
      "Running test batch: 3\n",
      "Running test batch: 4\n",
      "Running test batch: 5\n",
      "Running test batch: 6\n",
      "Running test batch: 7\n",
      "Running test batch: 8\n",
      "Running test batch: 9\n",
      "Running test batch: 10\n",
      "Running test batch: 11\n",
      "Running test batch: 12\n",
      "Running test batch: 13\n",
      "Running test batch: 14\n",
      "Running test batch: 15\n",
      "Running test batch: 16\n",
      "Running test batch: 17\n",
      "Running test batch: 18\n",
      "Running test batch: 19\n",
      "Finished!!!\n"
     ]
    }
   ],
   "source": [
    "cnn9_cnt2=model_acc_new(cnn9,'cnn9',40)"
   ]
  },
  {
   "cell_type": "code",
   "execution_count": 73,
   "id": "e99c606f",
   "metadata": {},
   "outputs": [
    {
     "name": "stdout",
     "output_type": "stream",
     "text": [
      "Training kenrel obtained!\n",
      "Running test batch: 0\n",
      "Running test batch: 1\n",
      "Running test batch: 2\n",
      "Running test batch: 3\n",
      "Running test batch: 4\n",
      "Running test batch: 5\n",
      "Running test batch: 6\n",
      "Running test batch: 7\n",
      "Running test batch: 8\n",
      "Running test batch: 9\n",
      "Running test batch: 10\n",
      "Running test batch: 11\n",
      "Running test batch: 12\n",
      "Running test batch: 13\n",
      "Running test batch: 14\n",
      "Running test batch: 15\n",
      "Running test batch: 16\n",
      "Running test batch: 17\n",
      "Running test batch: 18\n",
      "Running test batch: 19\n",
      "Finished!!!\n"
     ]
    }
   ],
   "source": [
    "cnn9_cnt3=model_acc_new(cnn9,'cnn9',89)"
   ]
  },
  {
   "cell_type": "code",
   "execution_count": 75,
   "id": "fc98b4a9",
   "metadata": {},
   "outputs": [
    {
     "name": "stdout",
     "output_type": "stream",
     "text": [
      "tensor(91.2400)\n",
      "7.3\n",
      "tensor(91.1800)\n",
      "5.76\n",
      "tensor(92.2200)\n",
      "6.39\n",
      "tensor(0.9155)\n"
     ]
    }
   ],
   "source": [
    "cnt_list=[cnn9_cnt1,cnn9_cnt2,cnn9_cnt3]\n",
    "statistic(cnt_list)"
   ]
  },
  {
   "cell_type": "code",
   "execution_count": 76,
   "id": "789057a0",
   "metadata": {},
   "outputs": [],
   "source": [
    "cnn11=cnn(11)"
   ]
  },
  {
   "cell_type": "code",
   "execution_count": 77,
   "id": "e6a5f9e7",
   "metadata": {},
   "outputs": [
    {
     "name": "stdout",
     "output_type": "stream",
     "text": [
      "Training kenrel obtained!\n",
      "Running test batch: 0\n",
      "Running test batch: 1\n",
      "Running test batch: 2\n",
      "Running test batch: 3\n",
      "Running test batch: 4\n",
      "Running test batch: 5\n",
      "Running test batch: 6\n",
      "Running test batch: 7\n",
      "Running test batch: 8\n",
      "Running test batch: 9\n",
      "Running test batch: 10\n",
      "Running test batch: 11\n",
      "Running test batch: 12\n",
      "Running test batch: 13\n",
      "Running test batch: 14\n",
      "Running test batch: 15\n",
      "Running test batch: 16\n",
      "Running test batch: 17\n",
      "Running test batch: 18\n",
      "Running test batch: 19\n",
      "Finished!!!\n"
     ]
    }
   ],
   "source": [
    "cnn11_cnt1=model_acc_new(cnn11,'cnn11',10)"
   ]
  },
  {
   "cell_type": "code",
   "execution_count": 78,
   "id": "c2a41a19",
   "metadata": {},
   "outputs": [
    {
     "name": "stdout",
     "output_type": "stream",
     "text": [
      "Training kenrel obtained!\n",
      "Running test batch: 0\n",
      "Running test batch: 1\n",
      "Running test batch: 2\n",
      "Running test batch: 3\n",
      "Running test batch: 4\n",
      "Running test batch: 5\n",
      "Running test batch: 6\n",
      "Running test batch: 7\n",
      "Running test batch: 8\n",
      "Running test batch: 9\n",
      "Running test batch: 10\n",
      "Running test batch: 11\n",
      "Running test batch: 12\n",
      "Running test batch: 13\n",
      "Running test batch: 14\n",
      "Running test batch: 15\n",
      "Running test batch: 16\n",
      "Running test batch: 17\n",
      "Running test batch: 18\n",
      "Running test batch: 19\n",
      "Finished!!!\n"
     ]
    }
   ],
   "source": [
    "cnn11_cnt2=model_acc_new(cnn11,'cnn11',40)"
   ]
  },
  {
   "cell_type": "code",
   "execution_count": 79,
   "id": "e253d2fb",
   "metadata": {},
   "outputs": [
    {
     "name": "stdout",
     "output_type": "stream",
     "text": [
      "Training kenrel obtained!\n",
      "Running test batch: 0\n",
      "Running test batch: 1\n",
      "Running test batch: 2\n",
      "Running test batch: 3\n",
      "Running test batch: 4\n",
      "Running test batch: 5\n",
      "Running test batch: 6\n",
      "Running test batch: 7\n",
      "Running test batch: 8\n",
      "Running test batch: 9\n",
      "Running test batch: 10\n",
      "Running test batch: 11\n",
      "Running test batch: 12\n",
      "Running test batch: 13\n",
      "Running test batch: 14\n",
      "Running test batch: 15\n",
      "Running test batch: 16\n",
      "Running test batch: 17\n",
      "Running test batch: 18\n",
      "Running test batch: 19\n",
      "Finished!!!\n"
     ]
    }
   ],
   "source": [
    "cnn11_cnt3=model_acc_new(cnn11,'cnn11',89)"
   ]
  },
  {
   "cell_type": "code",
   "execution_count": 80,
   "id": "e13c6161",
   "metadata": {},
   "outputs": [
    {
     "name": "stdout",
     "output_type": "stream",
     "text": [
      "tensor(9.8000)\n",
      "6.36\n",
      "tensor(9.8000)\n",
      "8.63\n",
      "tensor(9.8000)\n",
      "7.25\n",
      "tensor(0.0980)\n"
     ]
    }
   ],
   "source": [
    "cnt_list=[cnn11_cnt1,cnn11_cnt2,cnn11_cnt3]\n",
    "statistic(cnt_list)"
   ]
  },
  {
   "cell_type": "markdown",
   "id": "10aad1d0",
   "metadata": {},
   "source": [
    "2. Res-CNN-GP Classification"
   ]
  },
  {
   "cell_type": "code",
   "execution_count": 86,
   "id": "6950f423",
   "metadata": {},
   "outputs": [],
   "source": [
    "res3=res_cnn(3)\n",
    "res5=res_cnn(5)\n",
    "res7=res_cnn(7)\n",
    "res9=res_cnn(9)\n",
    "res11=res_cnn(11)"
   ]
  },
  {
   "cell_type": "code",
   "execution_count": 87,
   "id": "c8c3d151",
   "metadata": {},
   "outputs": [
    {
     "name": "stdout",
     "output_type": "stream",
     "text": [
      "Training kenrel obtained!\n",
      "Running test batch: 0\n",
      "Running test batch: 1\n",
      "Running test batch: 2\n",
      "Running test batch: 3\n",
      "Running test batch: 4\n",
      "Running test batch: 5\n",
      "Running test batch: 6\n",
      "Running test batch: 7\n",
      "Running test batch: 8\n",
      "Running test batch: 9\n",
      "Running test batch: 10\n",
      "Running test batch: 11\n",
      "Running test batch: 12\n",
      "Running test batch: 13\n",
      "Running test batch: 14\n",
      "Running test batch: 15\n",
      "Running test batch: 16\n",
      "Running test batch: 17\n",
      "Running test batch: 18\n",
      "Running test batch: 19\n",
      "Finished!!!\n"
     ]
    }
   ],
   "source": [
    "rescnn3_cnt1=model_acc_new(res3,'rescnn3',10)"
   ]
  },
  {
   "cell_type": "code",
   "execution_count": 88,
   "id": "bf274fee",
   "metadata": {},
   "outputs": [
    {
     "name": "stdout",
     "output_type": "stream",
     "text": [
      "Training kenrel obtained!\n",
      "Running test batch: 0\n",
      "Running test batch: 1\n",
      "Running test batch: 2\n",
      "Running test batch: 3\n",
      "Running test batch: 4\n",
      "Running test batch: 5\n",
      "Running test batch: 6\n",
      "Running test batch: 7\n",
      "Running test batch: 8\n",
      "Running test batch: 9\n",
      "Running test batch: 10\n",
      "Running test batch: 11\n",
      "Running test batch: 12\n",
      "Running test batch: 13\n",
      "Running test batch: 14\n",
      "Running test batch: 15\n",
      "Running test batch: 16\n",
      "Running test batch: 17\n",
      "Running test batch: 18\n",
      "Running test batch: 19\n",
      "Finished!!!\n"
     ]
    }
   ],
   "source": [
    "rescnn3_cnt2=model_acc_new(res3,'rescnn3',40)"
   ]
  },
  {
   "cell_type": "code",
   "execution_count": 89,
   "id": "f6ab67d4",
   "metadata": {},
   "outputs": [
    {
     "name": "stdout",
     "output_type": "stream",
     "text": [
      "Training kenrel obtained!\n",
      "Running test batch: 0\n",
      "Running test batch: 1\n",
      "Running test batch: 2\n",
      "Running test batch: 3\n",
      "Running test batch: 4\n",
      "Running test batch: 5\n",
      "Running test batch: 6\n",
      "Running test batch: 7\n",
      "Running test batch: 8\n",
      "Running test batch: 9\n",
      "Running test batch: 10\n",
      "Running test batch: 11\n",
      "Running test batch: 12\n",
      "Running test batch: 13\n",
      "Running test batch: 14\n",
      "Running test batch: 15\n",
      "Running test batch: 16\n",
      "Running test batch: 17\n",
      "Running test batch: 18\n",
      "Running test batch: 19\n",
      "Finished!!!\n"
     ]
    }
   ],
   "source": [
    "rescnn3_cnt3=model_acc_new(res3,'rescnn3',89)"
   ]
  },
  {
   "cell_type": "code",
   "execution_count": 102,
   "id": "5a375e56",
   "metadata": {},
   "outputs": [
    {
     "name": "stdout",
     "output_type": "stream",
     "text": [
      "tensor(91.1200)\n",
      "5.1\n",
      "tensor(91.0500)\n",
      "5.86\n",
      "tensor(90.8700)\n",
      "6.38\n",
      "tensor(0.9101)\n"
     ]
    }
   ],
   "source": [
    "cnt_list=[res3cnn_cnt1,res3cnn_cnt2,res3cnn_cnt3]\n",
    "statistic(cnt_list)"
   ]
  },
  {
   "cell_type": "code",
   "execution_count": 90,
   "id": "d6f6ece8",
   "metadata": {},
   "outputs": [
    {
     "name": "stdout",
     "output_type": "stream",
     "text": [
      "Training kenrel obtained!\n",
      "Running test batch: 0\n",
      "Running test batch: 1\n",
      "Running test batch: 2\n",
      "Running test batch: 3\n",
      "Running test batch: 4\n",
      "Running test batch: 5\n",
      "Running test batch: 6\n",
      "Running test batch: 7\n",
      "Running test batch: 8\n",
      "Running test batch: 9\n",
      "Running test batch: 10\n",
      "Running test batch: 11\n",
      "Running test batch: 12\n",
      "Running test batch: 13\n",
      "Running test batch: 14\n",
      "Running test batch: 15\n",
      "Running test batch: 16\n",
      "Running test batch: 17\n",
      "Running test batch: 18\n",
      "Running test batch: 19\n",
      "Finished!!!\n"
     ]
    }
   ],
   "source": [
    "rescnn5_cnt1=model_acc_new(res5,'rescnn5',10)"
   ]
  },
  {
   "cell_type": "code",
   "execution_count": 91,
   "id": "a882e9a1",
   "metadata": {},
   "outputs": [
    {
     "name": "stdout",
     "output_type": "stream",
     "text": [
      "Training kenrel obtained!\n",
      "Running test batch: 0\n",
      "Running test batch: 1\n",
      "Running test batch: 2\n",
      "Running test batch: 3\n",
      "Running test batch: 4\n",
      "Running test batch: 5\n",
      "Running test batch: 6\n",
      "Running test batch: 7\n",
      "Running test batch: 8\n",
      "Running test batch: 9\n",
      "Running test batch: 10\n",
      "Running test batch: 11\n",
      "Running test batch: 12\n",
      "Running test batch: 13\n",
      "Running test batch: 14\n",
      "Running test batch: 15\n",
      "Running test batch: 16\n",
      "Running test batch: 17\n",
      "Running test batch: 18\n",
      "Running test batch: 19\n",
      "Finished!!!\n"
     ]
    }
   ],
   "source": [
    "rescnn5_cnt2=model_acc_new(res5,'rescnn5',40)"
   ]
  },
  {
   "cell_type": "code",
   "execution_count": 92,
   "id": "5e436442",
   "metadata": {},
   "outputs": [
    {
     "name": "stdout",
     "output_type": "stream",
     "text": [
      "Training kenrel obtained!\n",
      "Running test batch: 0\n",
      "Running test batch: 1\n",
      "Running test batch: 2\n",
      "Running test batch: 3\n",
      "Running test batch: 4\n",
      "Running test batch: 5\n",
      "Running test batch: 6\n",
      "Running test batch: 7\n",
      "Running test batch: 8\n",
      "Running test batch: 9\n",
      "Running test batch: 10\n",
      "Running test batch: 11\n",
      "Running test batch: 12\n",
      "Running test batch: 13\n",
      "Running test batch: 14\n",
      "Running test batch: 15\n",
      "Running test batch: 16\n",
      "Running test batch: 17\n",
      "Running test batch: 18\n",
      "Running test batch: 19\n",
      "Finished!!!\n"
     ]
    }
   ],
   "source": [
    "rescnn5_cnt3=model_acc_new(res5,'rescnn5',89)"
   ]
  },
  {
   "cell_type": "code",
   "execution_count": 103,
   "id": "e2c3f768",
   "metadata": {},
   "outputs": [
    {
     "name": "stdout",
     "output_type": "stream",
     "text": [
      "tensor(91.3500)\n",
      "6.24\n",
      "tensor(91.9100)\n",
      "5.62\n",
      "tensor(91.0500)\n",
      "6.16\n",
      "tensor(0.9144)\n"
     ]
    }
   ],
   "source": [
    "cnt_list=[rescnn5_cnt1,rescnn5_cnt2,rescnn5_cnt3]\n",
    "statistic(cnt_list)"
   ]
  },
  {
   "cell_type": "code",
   "execution_count": 93,
   "id": "8874c134",
   "metadata": {},
   "outputs": [
    {
     "name": "stdout",
     "output_type": "stream",
     "text": [
      "Training kenrel obtained!\n",
      "Running test batch: 0\n",
      "Running test batch: 1\n",
      "Running test batch: 2\n",
      "Running test batch: 3\n",
      "Running test batch: 4\n",
      "Running test batch: 5\n",
      "Running test batch: 6\n",
      "Running test batch: 7\n",
      "Running test batch: 8\n",
      "Running test batch: 9\n",
      "Running test batch: 10\n",
      "Running test batch: 11\n",
      "Running test batch: 12\n",
      "Running test batch: 13\n",
      "Running test batch: 14\n",
      "Running test batch: 15\n",
      "Running test batch: 16\n",
      "Running test batch: 17\n",
      "Running test batch: 18\n",
      "Running test batch: 19\n",
      "Finished!!!\n"
     ]
    }
   ],
   "source": [
    "rescnn7_cnt1=model_acc_new(res7,'rescnn7',10)"
   ]
  },
  {
   "cell_type": "code",
   "execution_count": 94,
   "id": "ea07527e",
   "metadata": {},
   "outputs": [
    {
     "name": "stdout",
     "output_type": "stream",
     "text": [
      "Training kenrel obtained!\n",
      "Running test batch: 0\n",
      "Running test batch: 1\n",
      "Running test batch: 2\n",
      "Running test batch: 3\n",
      "Running test batch: 4\n",
      "Running test batch: 5\n",
      "Running test batch: 6\n",
      "Running test batch: 7\n",
      "Running test batch: 8\n",
      "Running test batch: 9\n",
      "Running test batch: 10\n",
      "Running test batch: 11\n",
      "Running test batch: 12\n",
      "Running test batch: 13\n",
      "Running test batch: 14\n",
      "Running test batch: 15\n",
      "Running test batch: 16\n",
      "Running test batch: 17\n",
      "Running test batch: 18\n",
      "Running test batch: 19\n",
      "Finished!!!\n"
     ]
    }
   ],
   "source": [
    "rescnn7_cnt2=model_acc_new(res7,'rescnn7',40)"
   ]
  },
  {
   "cell_type": "code",
   "execution_count": 95,
   "id": "b916d5cf",
   "metadata": {},
   "outputs": [
    {
     "name": "stdout",
     "output_type": "stream",
     "text": [
      "Training kenrel obtained!\n",
      "Running test batch: 0\n",
      "Running test batch: 1\n",
      "Running test batch: 2\n",
      "Running test batch: 3\n",
      "Running test batch: 4\n",
      "Running test batch: 5\n",
      "Running test batch: 6\n",
      "Running test batch: 7\n",
      "Running test batch: 8\n",
      "Running test batch: 9\n",
      "Running test batch: 10\n",
      "Running test batch: 11\n",
      "Running test batch: 12\n",
      "Running test batch: 13\n",
      "Running test batch: 14\n",
      "Running test batch: 15\n",
      "Running test batch: 16\n",
      "Running test batch: 17\n",
      "Running test batch: 18\n",
      "Running test batch: 19\n",
      "Finished!!!\n"
     ]
    }
   ],
   "source": [
    "rescnn7_cnt3=model_acc_new(res7,'rescnn7',89)"
   ]
  },
  {
   "cell_type": "code",
   "execution_count": 104,
   "id": "aad1a975",
   "metadata": {},
   "outputs": [
    {
     "name": "stdout",
     "output_type": "stream",
     "text": [
      "tensor(92.3800)\n",
      "5.66\n",
      "tensor(92.1600)\n",
      "6.38\n",
      "tensor(91.8300)\n",
      "6.37\n",
      "tensor(0.9212)\n"
     ]
    }
   ],
   "source": [
    "cnt_list=[rescnn7_cnt1,rescnn7_cnt2,rescnn7_cnt3]\n",
    "statistic(cnt_list)"
   ]
  },
  {
   "cell_type": "code",
   "execution_count": 96,
   "id": "72afa17f",
   "metadata": {},
   "outputs": [
    {
     "name": "stdout",
     "output_type": "stream",
     "text": [
      "Training kenrel obtained!\n",
      "Running test batch: 0\n",
      "Running test batch: 1\n",
      "Running test batch: 2\n",
      "Running test batch: 3\n",
      "Running test batch: 4\n",
      "Running test batch: 5\n",
      "Running test batch: 6\n",
      "Running test batch: 7\n",
      "Running test batch: 8\n",
      "Running test batch: 9\n",
      "Running test batch: 10\n",
      "Running test batch: 11\n",
      "Running test batch: 12\n",
      "Running test batch: 13\n",
      "Running test batch: 14\n",
      "Running test batch: 15\n",
      "Running test batch: 16\n",
      "Running test batch: 17\n",
      "Running test batch: 18\n",
      "Running test batch: 19\n",
      "Finished!!!\n"
     ]
    }
   ],
   "source": [
    "rescnn9_cnt1=model_acc_new(res9,'rescnn9',10)"
   ]
  },
  {
   "cell_type": "code",
   "execution_count": 97,
   "id": "2d836950",
   "metadata": {},
   "outputs": [
    {
     "name": "stdout",
     "output_type": "stream",
     "text": [
      "Training kenrel obtained!\n",
      "Running test batch: 0\n",
      "Running test batch: 1\n",
      "Running test batch: 2\n",
      "Running test batch: 3\n",
      "Running test batch: 4\n",
      "Running test batch: 5\n",
      "Running test batch: 6\n",
      "Running test batch: 7\n",
      "Running test batch: 8\n",
      "Running test batch: 9\n",
      "Running test batch: 10\n",
      "Running test batch: 11\n",
      "Running test batch: 12\n",
      "Running test batch: 13\n",
      "Running test batch: 14\n",
      "Running test batch: 15\n",
      "Running test batch: 16\n",
      "Running test batch: 17\n",
      "Running test batch: 18\n",
      "Running test batch: 19\n",
      "Finished!!!\n"
     ]
    }
   ],
   "source": [
    "rescnn9_cnt2=model_acc_new(res9,'rescnn9',40)"
   ]
  },
  {
   "cell_type": "code",
   "execution_count": 98,
   "id": "2c779569",
   "metadata": {},
   "outputs": [
    {
     "name": "stdout",
     "output_type": "stream",
     "text": [
      "Training kenrel obtained!\n",
      "Running test batch: 0\n",
      "Running test batch: 1\n",
      "Running test batch: 2\n",
      "Running test batch: 3\n",
      "Running test batch: 4\n",
      "Running test batch: 5\n",
      "Running test batch: 6\n",
      "Running test batch: 7\n",
      "Running test batch: 8\n",
      "Running test batch: 9\n",
      "Running test batch: 10\n",
      "Running test batch: 11\n",
      "Running test batch: 12\n",
      "Running test batch: 13\n",
      "Running test batch: 14\n",
      "Running test batch: 15\n",
      "Running test batch: 16\n",
      "Running test batch: 17\n",
      "Running test batch: 18\n",
      "Running test batch: 19\n",
      "Finished!!!\n"
     ]
    }
   ],
   "source": [
    "rescnn9_cnt3=model_acc_new(res9,'rescnn9',89)"
   ]
  },
  {
   "cell_type": "code",
   "execution_count": 105,
   "id": "ef5e9d4a",
   "metadata": {},
   "outputs": [
    {
     "name": "stdout",
     "output_type": "stream",
     "text": [
      "tensor(92.0100)\n",
      "6.39\n",
      "tensor(91.3400)\n",
      "3.86\n",
      "tensor(92.2900)\n",
      "5.51\n",
      "tensor(0.9188)\n"
     ]
    }
   ],
   "source": [
    "cnt_list=[rescnn9_cnt1,rescnn9_cnt2,rescnn9_cnt3]\n",
    "statistic(cnt_list)"
   ]
  },
  {
   "cell_type": "code",
   "execution_count": 99,
   "id": "05d8098b",
   "metadata": {},
   "outputs": [
    {
     "name": "stdout",
     "output_type": "stream",
     "text": [
      "Training kenrel obtained!\n",
      "Running test batch: 0\n",
      "Running test batch: 1\n",
      "Running test batch: 2\n",
      "Running test batch: 3\n",
      "Running test batch: 4\n",
      "Running test batch: 5\n",
      "Running test batch: 6\n",
      "Running test batch: 7\n",
      "Running test batch: 8\n",
      "Running test batch: 9\n",
      "Running test batch: 10\n",
      "Running test batch: 11\n",
      "Running test batch: 12\n",
      "Running test batch: 13\n",
      "Running test batch: 14\n",
      "Running test batch: 15\n",
      "Running test batch: 16\n",
      "Running test batch: 17\n",
      "Running test batch: 18\n",
      "Running test batch: 19\n",
      "Finished!!!\n"
     ]
    }
   ],
   "source": [
    "rescnn11_cnt1=model_acc_new(res11,'rescnn11',10)"
   ]
  },
  {
   "cell_type": "code",
   "execution_count": 100,
   "id": "cb3d2dde",
   "metadata": {},
   "outputs": [
    {
     "name": "stdout",
     "output_type": "stream",
     "text": [
      "Training kenrel obtained!\n",
      "Running test batch: 0\n",
      "Running test batch: 1\n",
      "Running test batch: 2\n",
      "Running test batch: 3\n",
      "Running test batch: 4\n",
      "Running test batch: 5\n",
      "Running test batch: 6\n",
      "Running test batch: 7\n",
      "Running test batch: 8\n",
      "Running test batch: 9\n",
      "Running test batch: 10\n",
      "Running test batch: 11\n",
      "Running test batch: 12\n",
      "Running test batch: 13\n",
      "Running test batch: 14\n",
      "Running test batch: 15\n",
      "Running test batch: 16\n",
      "Running test batch: 17\n",
      "Running test batch: 18\n",
      "Running test batch: 19\n",
      "Finished!!!\n"
     ]
    }
   ],
   "source": [
    "rescnn11_cnt2=model_acc_new(res11,'rescnn11',40)"
   ]
  },
  {
   "cell_type": "code",
   "execution_count": 101,
   "id": "738607c9",
   "metadata": {},
   "outputs": [
    {
     "name": "stdout",
     "output_type": "stream",
     "text": [
      "Training kenrel obtained!\n",
      "Running test batch: 0\n",
      "Running test batch: 1\n",
      "Running test batch: 2\n",
      "Running test batch: 3\n",
      "Running test batch: 4\n",
      "Running test batch: 5\n",
      "Running test batch: 6\n",
      "Running test batch: 7\n",
      "Running test batch: 8\n",
      "Running test batch: 9\n",
      "Running test batch: 10\n",
      "Running test batch: 11\n",
      "Running test batch: 12\n",
      "Running test batch: 13\n",
      "Running test batch: 14\n",
      "Running test batch: 15\n",
      "Running test batch: 16\n",
      "Running test batch: 17\n",
      "Running test batch: 18\n",
      "Running test batch: 19\n",
      "Finished!!!\n"
     ]
    }
   ],
   "source": [
    "rescnn11_cnt3=model_acc_new(res11,'rescnn11',89)"
   ]
  },
  {
   "cell_type": "code",
   "execution_count": 106,
   "id": "54a1a389",
   "metadata": {},
   "outputs": [
    {
     "name": "stdout",
     "output_type": "stream",
     "text": [
      "tensor(9.8000)\n",
      "4.99\n",
      "tensor(9.8000)\n",
      "5.79\n",
      "tensor(9.8000)\n",
      "6.86\n",
      "tensor(0.0980)\n"
     ]
    }
   ],
   "source": [
    "cnt_list=[rescnn11_cnt1,rescnn11_cnt2,rescnn11_cnt3]\n",
    "statistic(cnt_list)"
   ]
  },
  {
   "cell_type": "code",
   "execution_count": null,
   "id": "7836ee7d",
   "metadata": {},
   "outputs": [],
   "source": []
  }
 ],
 "metadata": {
  "kernelspec": {
   "display_name": "Python 3 (ipykernel)",
   "language": "python",
   "name": "python3"
  },
  "language_info": {
   "codemirror_mode": {
    "name": "ipython",
    "version": 3
   },
   "file_extension": ".py",
   "mimetype": "text/x-python",
   "name": "python",
   "nbconvert_exporter": "python",
   "pygments_lexer": "ipython3",
   "version": "3.8.10"
  }
 },
 "nbformat": 4,
 "nbformat_minor": 5
}
